{
 "cells": [
  {
   "cell_type": "code",
   "execution_count": 10,
   "metadata": {},
   "outputs": [],
   "source": [
    "import cv2\n",
    "import numpy as np\n",
    "import matplotlib.pyplot as plt\n",
    "import tensorflow as tf\n",
    "import keras\n",
    "import os"
   ]
  },
  {
   "cell_type": "code",
   "execution_count": 18,
   "metadata": {},
   "outputs": [],
   "source": [
    "#Load images function\n",
    "def load_image_from_folder(folder, label, target_size=(256, 256)):\n",
    "    \"\"\"\n",
    "    Loads images from a specified folder, resizes them to a target size,\n",
    "    and assigns a label to each image.\n",
    "    Args:\n",
    "        folder (str): The path to the folder containing the images.\n",
    "        label (str): The label to assign to each image.\n",
    "        target_size (tuple): The desired size to resize the images.\n",
    "    Returns:\n",
    "        tuple: A tuple containing two lists: the list of loaded images and the list of corresponding labels.\n",
    "    \"\"\"\n",
    "    images = []\n",
    "    labels = []\n",
    "    for filename in os.listdir(folder):\n",
    "        if filename.endswith(\".jpg\") or filename.endswith(\".png\") or filename.endswith(\".jpeg\"):\n",
    "            image_path = os.path.join(folder, filename)\n",
    "            image_gray = cv2.imread(image_path, cv2.IMREAD_GRAYSCALE)\n",
    "            if image_gray is not None:\n",
    "                image_resized = cv2.resize(image_gray, target_size)\n",
    "                images.append(image_resized)\n",
    "                labels.append(label)\n",
    "    return images, labels\n",
    "\n"
   ]
  },
  {
   "cell_type": "code",
   "execution_count": 31,
   "metadata": {},
   "outputs": [],
   "source": [
    "#Load images\n",
    "Normal_folder ='train/NORMAL/'\n",
    "Pneumonia_folder = 'train/PNEUMONIA/'\n",
    "\n",
    "normal_images, normal_labels = load_image_from_folder(Normal_folder, 0, target_size=(256, 256))\n",
    "pneumonia_images, pneumonia_labels = load_image_from_folder(Pneumonia_folder, 1, target_size=(256, 256))\n"
   ]
  },
  {
   "cell_type": "code",
   "execution_count": 32,
   "metadata": {},
   "outputs": [
    {
     "name": "stdout",
     "output_type": "stream",
     "text": [
      "Images loaded correctly\n"
     ]
    }
   ],
   "source": [
    "#Prepare data\n",
    "images = np.array(normal_images + pneumonia_images, dtype=np.uint8)\n",
    "labels = np.array(normal_labels + pneumonia_labels, dtype=np.uint8)\n",
    "\n",
    "#Verify if the images are loaded correctly\n",
    "if len(images) == len(labels):\n",
    "    print(\"Images loaded correctly\")\n",
    "else:\n",
    "    print(\"Images not loaded correctly\")\n"
   ]
  },
  {
   "cell_type": "code",
   "execution_count": 33,
   "metadata": {},
   "outputs": [
    {
     "name": "stdout",
     "output_type": "stream",
     "text": [
      "(4172, 256, 256)\n"
     ]
    }
   ],
   "source": [
    "#Normalize the images\n",
    "images = images / 255.\n",
    "\n",
    "#Divide data\n",
    "from sklearn.model_selection import train_test_split\n",
    "X_train, X_test, y_train, y_test = train_test_split(images, labels, test_size=0.2, random_state=42)\n",
    "print(X_train.shape)"
   ]
  },
  {
   "cell_type": "code",
   "execution_count": 34,
   "metadata": {},
   "outputs": [],
   "source": [
    "from keras import layers, models\n",
    "#model architecture\n",
    "model = keras.Sequential()\n",
    "model.add(layers.Flatten(input_shape=(256, 256)))\n",
    "model.add(layers.Dense(512, activation='relu'))\n",
    "model.add(layers.Dense(256, activation='relu'))\n",
    "model.add(layers.Dense(1, activation='sigmoid'))"
   ]
  },
  {
   "cell_type": "code",
   "execution_count": 35,
   "metadata": {},
   "outputs": [
    {
     "name": "stdout",
     "output_type": "stream",
     "text": [
      "Epoch 1/10\n",
      "131/131 [==============================] - 63s 472ms/step - loss: 1.9694 - accuracy: 0.8061\n",
      "Epoch 2/10\n",
      "131/131 [==============================] - 59s 449ms/step - loss: 0.3439 - accuracy: 0.9056\n",
      "Epoch 3/10\n",
      "131/131 [==============================] - 60s 457ms/step - loss: 0.1717 - accuracy: 0.9382\n",
      "Epoch 4/10\n",
      "131/131 [==============================] - 76s 579ms/step - loss: 0.1890 - accuracy: 0.9305\n",
      "Epoch 5/10\n",
      "131/131 [==============================] - 66s 503ms/step - loss: 0.2154 - accuracy: 0.9235\n",
      "Epoch 6/10\n",
      "131/131 [==============================] - 65s 499ms/step - loss: 0.1375 - accuracy: 0.9487\n",
      "Epoch 7/10\n",
      "131/131 [==============================] - 71s 542ms/step - loss: 0.1560 - accuracy: 0.9432\n",
      "Epoch 8/10\n",
      "131/131 [==============================] - 70s 532ms/step - loss: 0.1445 - accuracy: 0.9446\n",
      "Epoch 9/10\n",
      "131/131 [==============================] - 65s 499ms/step - loss: 0.1383 - accuracy: 0.9449\n",
      "Epoch 10/10\n",
      "131/131 [==============================] - 68s 520ms/step - loss: 0.1391 - accuracy: 0.9456\n"
     ]
    },
    {
     "data": {
      "text/plain": [
       "<keras.callbacks.History at 0x1c3a085d450>"
      ]
     },
     "execution_count": 35,
     "metadata": {},
     "output_type": "execute_result"
    }
   ],
   "source": [
    "#Compile the model\n",
    "model.compile(optimizer='adam',\n",
    "    loss='binary_crossentropy',\n",
    "    metrics=['accuracy'])\n",
    "\n",
    "#train the model\n",
    "model.fit(X_train, y_train, epochs=10)\n"
   ]
  },
  {
   "cell_type": "code",
   "execution_count": 36,
   "metadata": {},
   "outputs": [
    {
     "name": "stdout",
     "output_type": "stream",
     "text": [
      "Model saved\n"
     ]
    }
   ],
   "source": [
    "#Save the model\n",
    "model.save('model_pneumonia.h5')\n",
    "print(\"Model saved\")"
   ]
  },
  {
   "cell_type": "code",
   "execution_count": 37,
   "metadata": {},
   "outputs": [
    {
     "name": "stdout",
     "output_type": "stream",
     "text": [
      "33/33 [==============================] - 2s 54ms/step - loss: 0.1917 - accuracy: 0.9224\n"
     ]
    },
    {
     "data": {
      "text/plain": [
       "[0.1917264759540558, 0.9224137663841248]"
      ]
     },
     "execution_count": 37,
     "metadata": {},
     "output_type": "execute_result"
    }
   ],
   "source": [
    "#Test the model\n",
    "model.evaluate(X_test, y_test)\n",
    "\n"
   ]
  }
 ],
 "metadata": {
  "kernelspec": {
   "display_name": "Python 3",
   "language": "python",
   "name": "python3"
  },
  "language_info": {
   "codemirror_mode": {
    "name": "ipython",
    "version": 3
   },
   "file_extension": ".py",
   "mimetype": "text/x-python",
   "name": "python",
   "nbconvert_exporter": "python",
   "pygments_lexer": "ipython3",
   "version": "3.11.4"
  },
  "orig_nbformat": 4
 },
 "nbformat": 4,
 "nbformat_minor": 2
}
